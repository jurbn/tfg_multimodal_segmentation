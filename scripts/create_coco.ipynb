{
 "cells": [
  {
   "cell_type": "code",
   "execution_count": 1,
   "metadata": {},
   "outputs": [],
   "source": [
    "# change dir to ../\n",
    "import os\n",
    "os.chdir(\"..\")"
   ]
  },
  {
   "cell_type": "code",
   "execution_count": 2,
   "metadata": {},
   "outputs": [],
   "source": [
    "# create a COCO dataset\n",
    "from pycocotools.coco import COCO\n",
    "import numpy as np\n",
    "\n",
    "# create an empty COCO dataset\n",
    "coco = COCO()"
   ]
  },
  {
   "cell_type": "code",
   "execution_count": null,
   "metadata": {},
   "outputs": [],
   "source": [
    "# iterate over all the images in the video and add them to the dataset\n",
    "import os.path as osp\n",
    "\n",
    "VIDEO_ID = 'bag_20210802015851'\n",
    "video_dir = osp.join('data', 'lindenthal-camera-traps', 'lindenthal_coco', 'images', VIDEO_ID, 'color')\n",
    "\n",
    "# create the Evaluator object\n",
    "\n",
    "# for every image in the color folder in alphabetical order\n",
    "frame_list = sorted(os.listdir(video_dir))\n",
    "frame_id_list = [int(frame_fn.split('.')[0]) for frame_fn in frame_list]\n",
    "# only take the first frame of each decade (that might not be every 10th frame)\n",
    "new_list = []\n",
    "for frame in frame_id_list:\n",
    "    # check if it's in the same decade as the last frame added to new_list\n",
    "    if len(new_list) == 0 or frame // 10 != new_list[-1] // 10:\n",
    "        new_list.append(frame)\n",
    "frame_id_list = new_list"
   ]
  },
  {
   "cell_type": "code",
   "execution_count": 30,
   "metadata": {},
   "outputs": [],
   "source": [
    "# include the frames into the COCO dataset\n",
    "import json\n",
    "\n",
    "coco_dict = {'images': [], 'annotations': [], 'categories': []}\n",
    "\n",
    "for frame_id in frame_id_list:\n",
    "    # create the image dictionary\n",
    "    image_dict = {\n",
    "        'id': f'{VIDEO_ID}-{frame_id}',\n",
    "        'file_name': f'{VIDEO_ID}/color/{frame_id:06d}.jpg',\n",
    "        'width': 848,\n",
    "        'height': 480,\n",
    "        'seq_id': VIDEO_ID,\n",
    "    }\n",
    "    coco_dict['images'].append(image_dict)\n",
    "    \n",
    "# create the json file\n",
    "with open('inference.json', 'w') as f:\n",
    "    json.dump(coco_dict, f)\n",
    "    \n"
   ]
  }
 ],
 "metadata": {
  "kernelspec": {
   "display_name": "tfg",
   "language": "python",
   "name": "python3"
  },
  "language_info": {
   "codemirror_mode": {
    "name": "ipython",
    "version": 3
   },
   "file_extension": ".py",
   "mimetype": "text/x-python",
   "name": "python",
   "nbconvert_exporter": "python",
   "pygments_lexer": "ipython3",
   "version": "3.10.15"
  }
 },
 "nbformat": 4,
 "nbformat_minor": 2
}
