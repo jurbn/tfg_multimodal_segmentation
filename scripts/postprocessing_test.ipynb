{
 "cells": [
  {
   "cell_type": "code",
   "execution_count": 1,
   "metadata": {},
   "outputs": [],
   "source": [
    "import os\n",
    "os.chdir('/media/jorge/HDD/TFG/')\n",
    "import json\n",
    "import rosbag\n",
    "import cv2 as cv\n",
    "import numpy as np\n",
    "import pyrealsense2 as rs\n",
    "\n",
    "from cv_bridge import CvBridge\n",
    "from pycocotools.coco import COCO\n",
    "from skimage.feature import hog\n",
    "from time import time\n",
    "\n",
    "from src.depth2hha.getHHA import getHHA\n",
    "from src.utils.gen_normal_map import depth_to_normal\n",
    "\n",
    "BAGFILE_PATH = 'data/data_base/lindenthal-camera-traps/bagfiles'\n",
    "DATASET_PATH = 'data/lindenthal-camera-traps/lindenthal_coco/'\n",
    "OUTPUT_PATH = 'data/lindenthal-camera-traps/lindenthal_coco/images'"
   ]
  },
  {
   "cell_type": "code",
   "execution_count": null,
   "metadata": {},
   "outputs": [],
   "source": [
    "# iterate over all the videos inside the output path\n",
    "for video_folder in os.listdir(OUTPUT_PATH):\n",
    "    for frame_fn in os.listdir(os.path.join(OUTPUT_PATH, video_folder, 'depth')):\n",
    "        # only process the multiples of 10 plus 1\n",
    "        if (int(frame_fn.split('.')[0]) - 1) % 10 != 0:\n",
    "            continue\n",
    "\n",
    "        if int(frame_fn.split('.')[0]) < 40:\n",
    "            continue\n",
    "        \n",
    "        # read the frame\n",
    "        frame = cv.imread(os.path.join(OUTPUT_PATH, video_folder, 'depth', frame_fn), cv.IMREAD_UNCHANGED)\n",
    "        # equalize the histogram\n",
    "        img = frame.copy()\n",
    "        hist, bins = np.histogram(img.flatten(), 65536, [0, 65536])  # Collect 16 bits histogram (65536 = 2^16).\n",
    "        cdf = hist.cumsum()\n",
    "\n",
    "        cdf_m = np.ma.masked_equal(cdf, 0)  # Find the minimum histogram value (excluding 0)\n",
    "        cdf_m = (cdf_m - cdf_m.min())*65535/(cdf_m.max()-cdf_m.min())\n",
    "        cdf = np.ma.filled(cdf_m,0).astype('uint16')\n",
    "\n",
    "        img2 = cdf[img]\n",
    "\n",
    "        gradient_x = cv.Sobel(frame, cv.CV_64F, 1, 0, ksize=3)\n",
    "        gradient_y = cv.Sobel(frame, cv.CV_64F, 0, 1, ksize=3)\n",
    "        gradient_magnitude = np.sqrt(gradient_x**2 + gradient_y**2)\n",
    "        gradient_magnitude = cv.normalize(gradient_magnitude, None, 0, 255, cv.NORM_MINMAX)\n",
    "\n",
    "        # Now we have the look-up table...\n",
    "        \n",
    "\n",
    "        cv.imshow('Depth', frame)\n",
    "        cv.imshow('EqHist', img2)\n",
    "        cv.imshow('distance_transform', gradient_magnitude)\n",
    "        cv.waitKey(0)\n",
    "        break\n"
   ]
  },
  {
   "cell_type": "code",
   "execution_count": null,
   "metadata": {},
   "outputs": [
    {
     "name": "stdout",
     "output_type": "stream",
     "text": [
      "Processing time 0.14284777641296387 ms\n",
      "Processing time 0.10689640045166016 ms\n",
      "Processing time 0.0989985466003418 ms\n",
      "Processing time 0.09838604927062988 ms\n",
      "Processing time 0.10985827445983887 ms\n",
      "Processing time 0.09806656837463379 ms\n",
      "Processing time 0.030026674270629883 ms\n",
      "Processing time 0.029437541961669922 ms\n",
      "Processing time 0.03407597541809082 ms\n",
      "Processing time 0.03468132019042969 ms\n",
      "Processing time 0.02533698081970215 ms\n",
      "Processing time 0.0295102596282959 ms\n",
      "Processing time 0.032897233963012695 ms\n",
      "Processing time 0.03260207176208496 ms\n",
      "Processing time 0.03409719467163086 ms\n",
      "Processing time 0.030552148818969727 ms\n",
      "Processing time 0.03473520278930664 ms\n",
      "Processing time 0.03090190887451172 ms\n",
      "Processing time 0.03336453437805176 ms\n",
      "Processing time 0.034136295318603516 ms\n",
      "Processing time 0.03253054618835449 ms\n",
      "Processing time 0.03177475929260254 ms\n",
      "Processing time 0.03307938575744629 ms\n",
      "Processing time 0.03518342971801758 ms\n",
      "Processing time 0.03500819206237793 ms\n",
      "Processing time 0.035968780517578125 ms\n",
      "Processing time 0.03347420692443848 ms\n",
      "Processing time 0.03539633750915527 ms\n",
      "Processing time 0.03869795799255371 ms\n",
      "Processing time 0.03673863410949707 ms\n",
      "Processing time 0.038729190826416016 ms\n",
      "Processing time 0.03487038612365723 ms\n",
      "Processing time 0.03350114822387695 ms\n"
     ]
    }
   ],
   "source": [
    "# iterate over all the videos inside the output path\n",
    "for video_folder in os.listdir(OUTPUT_PATH):\n",
    "    for frame_fn in os.listdir(os.path.join(OUTPUT_PATH, video_folder, 'depth')):\n",
    "        # only process the multiples of 10 plus 1\n",
    "        # if (int(frame_fn.split('.')[0]) - 1) % 10 != 0:\n",
    "        #     continue\n",
    "\n",
    "        # if int(frame_fn.split('.')[0]) < 40:\n",
    "        #     continue\n",
    "        \n",
    "        # read the frame\n",
    "        frame = cv.imread(os.path.join(OUTPUT_PATH, video_folder, 'depth', frame_fn), cv.IMREAD_UNCHANGED)\n",
    "        \n",
    "        # generate the normal map from the depth map\n",
    "        start = time()\n",
    "        normal = depth_to_normal(frame)\n",
    "        print(f'Processing time {time()-start} ms')\n",
    "\n",
    "        cv.imshow('depth', frame)\n",
    "        cv.imshow('normal', normal)\n",
    "        cv.waitKey(0)\n",
    "        break\n",
    "        "
   ]
  },
  {
   "cell_type": "code",
   "execution_count": null,
   "metadata": {},
   "outputs": [
    {
     "name": "stdout",
     "output_type": "stream",
     "text": [
      "Processing time for NORM_HIST 0.019161224365234375 ms\n",
      "Processing time for HHA 5.2350828647613525 ms\n",
      "Processing time for NORM_HIST 0.005853176116943359 ms\n",
      "Processing time for HHA 4.952310800552368 ms\n",
      "Processing time for NORM_HIST 0.005686521530151367 ms\n",
      "Processing time for HHA 5.326498985290527 ms\n",
      "Processing time for NORM_HIST 0.015009880065917969 ms\n",
      "Processing time for HHA 5.369089841842651 ms\n",
      "Processing time for NORM_HIST 0.008102893829345703 ms\n",
      "Processing time for HHA 5.433770656585693 ms\n"
     ]
    },
    {
     "ename": "",
     "evalue": "",
     "output_type": "error",
     "traceback": [
      "\u001b[1;31mCannot execute code, session has been disposed. Please try restarting the Kernel."
     ]
    },
    {
     "ename": "",
     "evalue": "",
     "output_type": "error",
     "traceback": [
      "\u001b[1;31mCannot execute code, session has been disposed. Please try restarting the Kernel. \n",
      "\u001b[1;31mView Jupyter <a href='command:jupyter.viewOutput'>log</a> for further details."
     ]
    }
   ],
   "source": [
    "# iterate over all the videos inside the output path\n",
    "for video_folder in os.listdir(OUTPUT_PATH):\n",
    "    for frame_fn in os.listdir(os.path.join(OUTPUT_PATH, video_folder, 'depth')):\n",
    "        # only process the multiples of 10 plus 1\n",
    "        # if (int(frame_fn.split('.')[0]) - 1) % 10 != 0:\n",
    "        #     continue\n",
    "\n",
    "        # if int(frame_fn.split('.')[0]) < 40:\n",
    "        #     continue\n",
    "        \n",
    "        # read the frame\n",
    "        frame = cv.imread(os.path.join(OUTPUT_PATH, video_folder, 'depth', frame_fn), cv.IMREAD_UNCHANGED)\n",
    "        \n",
    "        # generate the normal map from the depth map\n",
    "        start = time()\n",
    "        hist, bins = np.histogram(frame.flatten(), 65536, [0, 65536])  # Collect 16 bits histogram (65536 = 2^16).\n",
    "        cdf = hist.cumsum()\n",
    "\n",
    "        cdf_m = np.ma.masked_equal(cdf, 0)  # Find the minimum histogram value (excluding 0)\n",
    "        cdf_m = (cdf_m - cdf_m.min())*65535/(cdf_m.max()-cdf_m.min())\n",
    "        cdf = np.ma.filled(cdf_m,0).astype('uint16')\n",
    "        norm_frame = cdf[frame]\n",
    "        print(f'Processing time for NORM_HIST {time()-start} ms')\n",
    "\n",
    "        # now process the hha representation\n",
    "        with open(os.path.join(OUTPUT_PATH, video_folder, 'intrinsics.json'), 'r') as intrinsics_file:\n",
    "            intrinsics = json.load(intrinsics_file)\n",
    "        cam_matrix = np.matrix([\n",
    "            [intrinsics['fx'],  0,                  intrinsics['ppx']],\n",
    "            [0,                 intrinsics['fy'],   intrinsics['ppy']],\n",
    "            [0,                 0,                  1]\n",
    "        ])\n",
    "        hha = getHHA(cam_matrix, frame/1000.0, np.zeros_like(frame))\n",
    "        print(f'Processing time for HHA {time()-start} ms')\n",
    "\n",
    "        cv.imshow('depth', frame)\n",
    "        cv.imshow('normalized histogram', norm_frame)\n",
    "        cv.imshow('hha', hha)\n",
    "        cv.waitKey(0)\n",
    "        break"
   ]
  }
 ],
 "metadata": {
  "kernelspec": {
   "display_name": "tfg",
   "language": "python",
   "name": "python3"
  },
  "language_info": {
   "codemirror_mode": {
    "name": "ipython",
    "version": 3
   },
   "file_extension": ".py",
   "mimetype": "text/x-python",
   "name": "python",
   "nbconvert_exporter": "python",
   "pygments_lexer": "ipython3",
   "version": "3.10.15"
  }
 },
 "nbformat": 4,
 "nbformat_minor": 2
}
